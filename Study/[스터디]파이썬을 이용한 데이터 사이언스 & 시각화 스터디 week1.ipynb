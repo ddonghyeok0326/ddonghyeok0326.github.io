{
 "cells": [
  {
   "cell_type": "markdown",
   "id": "e4fe7075-f571-42e1-872d-99bef4164518",
   "metadata": {},
   "source": [
    "# 파이썬 리스트는 리스트 이상이다"
   ]
  },
  {
   "cell_type": "code",
   "execution_count": 3,
   "id": "049e0a20-488f-43bc-9563-c58abd6a4ae2",
   "metadata": {},
   "outputs": [
    {
     "data": {
      "text/plain": [
       "[0, 1, 2, 3, 4, 5, 6, 7, 8, 9]"
      ]
     },
     "execution_count": 3,
     "metadata": {},
     "output_type": "execute_result"
    }
   ],
   "source": [
    "L = list(range(10))\n",
    "L"
   ]
  },
  {
   "cell_type": "code",
   "execution_count": 5,
   "id": "27a525d9-ab42-4426-b3df-5be569b078f4",
   "metadata": {},
   "outputs": [
    {
     "data": {
      "text/plain": [
       "int"
      ]
     },
     "execution_count": 5,
     "metadata": {},
     "output_type": "execute_result"
    }
   ],
   "source": [
    "type(L[0])"
   ]
  },
  {
   "cell_type": "code",
   "execution_count": 7,
   "id": "63fc5dd1-df72-42e2-a7a4-ab9537a128bc",
   "metadata": {},
   "outputs": [
    {
     "data": {
      "text/plain": [
       "['0', '1', '2', '3', '4', '5', '6', '7', '8', '9']"
      ]
     },
     "execution_count": 7,
     "metadata": {},
     "output_type": "execute_result"
    }
   ],
   "source": [
    "L2 = [str(c) for c in L]\n",
    "L2"
   ]
  },
  {
   "cell_type": "code",
   "execution_count": 9,
   "id": "7848ef0c-16ca-40f6-ab00-a397176fd9bc",
   "metadata": {},
   "outputs": [
    {
     "data": {
      "text/plain": [
       "str"
      ]
     },
     "execution_count": 9,
     "metadata": {},
     "output_type": "execute_result"
    }
   ],
   "source": [
    "type(L2[0])"
   ]
  },
  {
   "cell_type": "code",
   "execution_count": 11,
   "id": "df5ebca0-9f17-4f9e-932e-b93f8a582d75",
   "metadata": {},
   "outputs": [
    {
     "data": {
      "text/plain": [
       "[bool, str, float, int]"
      ]
     },
     "execution_count": 11,
     "metadata": {},
     "output_type": "execute_result"
    }
   ],
   "source": [
    "L3 = [True, \"2\", 3.0, 4]\n",
    "[type(item) for item in L3]"
   ]
  },
  {
   "cell_type": "markdown",
   "id": "86a585b4-0803-42d7-b5fa-1a4d6c3f4542",
   "metadata": {},
   "source": [
    "# 파이썬 리스트에서 배열 만들기"
   ]
  },
  {
   "cell_type": "code",
   "execution_count": 15,
   "id": "900ad575-ec2b-4f8b-91f5-4f3bb141b891",
   "metadata": {},
   "outputs": [],
   "source": [
    "import numpy as np"
   ]
  },
  {
   "cell_type": "code",
   "execution_count": 17,
   "id": "7c08a060-a2f8-4243-b84e-1b3efe2654f0",
   "metadata": {},
   "outputs": [
    {
     "data": {
      "text/plain": [
       "array([1, 4, 2, 5, 3])"
      ]
     },
     "execution_count": 17,
     "metadata": {},
     "output_type": "execute_result"
    }
   ],
   "source": [
    "# Integer array\n",
    "np.array([1, 4, 2, 5, 3])"
   ]
  },
  {
   "cell_type": "code",
   "execution_count": 19,
   "id": "5757c831-f4df-4328-ac69-ac937f5bfae8",
   "metadata": {},
   "outputs": [
    {
     "data": {
      "text/plain": [
       "array([3.14, 4.  , 2.  , 3.  ])"
      ]
     },
     "execution_count": 19,
     "metadata": {},
     "output_type": "execute_result"
    }
   ],
   "source": [
    "np.array([3.14, 4, 2, 3])"
   ]
  },
  {
   "cell_type": "code",
   "execution_count": 21,
   "id": "c3cb9426-749a-4a4d-b357-5a932f541dc5",
   "metadata": {},
   "outputs": [
    {
     "data": {
      "text/plain": [
       "array([1., 2., 3., 4.], dtype=float32)"
      ]
     },
     "execution_count": 21,
     "metadata": {},
     "output_type": "execute_result"
    }
   ],
   "source": [
    "np.array([1, 2, 3, 4], dtype=np.float32)"
   ]
  },
  {
   "cell_type": "code",
   "execution_count": 23,
   "id": "2a08ffb9-1c3f-4ea1-b14f-5c2b691e4efe",
   "metadata": {},
   "outputs": [
    {
     "data": {
      "text/plain": [
       "array([[2, 3, 4],\n",
       "       [4, 5, 6],\n",
       "       [6, 7, 8]])"
      ]
     },
     "execution_count": 23,
     "metadata": {},
     "output_type": "execute_result"
    }
   ],
   "source": [
    "# Nested lists result in multidimensional arrays\n",
    "np.array([range(i, i + 3) for i in [2, 4, 6]])"
   ]
  },
  {
   "cell_type": "markdown",
   "id": "4aadc539-90d2-4fd6-a300-430397d97dee",
   "metadata": {},
   "source": [
    "# 처음부터 배열 만들기"
   ]
  },
  {
   "cell_type": "code",
   "execution_count": 28,
   "id": "c337c087-d1a8-46e8-accf-d56e1777897c",
   "metadata": {},
   "outputs": [
    {
     "data": {
      "text/plain": [
       "array([ 1.23281079e-311,  1.23280036e-311, -0.00000000e+000])"
      ]
     },
     "execution_count": 28,
     "metadata": {},
     "output_type": "execute_result"
    }
   ],
   "source": [
    "# 0으로 채운 길이 10의 정수 배열 만들기\n",
    "np.zeros(10, dtype=int)\n",
    "\n",
    "# Create a 3x5 floating-point array filled with 1s\n",
    "np.ones((3, 5), dtype=float)\n",
    "\n",
    "# Create a 3x5 array filled with 3.14\n",
    "np.full((3, 5), 3.14)\n",
    "\n",
    "# Create an array filled with a linear sequence\n",
    "# starting at 0, ending at 20, stepping by 2\n",
    "# (this is similar to the built-in range function)\n",
    "np.arange(0, 20, 2)\n",
    "\n",
    "# Create an array of five values evenly spaced between 0 and 1\n",
    "np.linspace(0, 1, 5)\n",
    "\n",
    "# Create a 3x3 array of uniformly distributed\n",
    "# pseudorandom values between 0 and 1\n",
    "np.random.random((3, 3))\n",
    "\n",
    "# Create a 3x3 array of normally distributed pseudorandom\n",
    "# values with mean 0 and standard deviation 1\n",
    "np.random.normal(0, 1, (3, 3))\n",
    "\n",
    "# Create a 3x3 array of pseudorandom integers in the interval [0, 10)\n",
    "np.random.randint(0, 10, (3, 3))\n",
    "\n",
    "# Create a 3x3 identity matrix\n",
    "np.eye(3)\n",
    "\n",
    "# Create an uninitialized array of three integers; the values will be\n",
    "# whatever happens to already exist at that memory location\n",
    "np.empty(3)"
   ]
  },
  {
   "cell_type": "markdown",
   "id": "b7f17b0c-3829-4bf1-8d5d-dfa64f26a46a",
   "metadata": {},
   "source": [
    "# Numpy 배열 속성 지정"
   ]
  },
  {
   "cell_type": "code",
   "execution_count": 31,
   "id": "e9357135-c1e6-47da-8348-fe7a40a96a0a",
   "metadata": {},
   "outputs": [
    {
     "name": "stdout",
     "output_type": "stream",
     "text": [
      "x3 ndim:  3\n",
      "x3 shape: (3, 4, 5)\n",
      "x3 size:  60\n",
      "dtype:    int64\n"
     ]
    }
   ],
   "source": [
    "import numpy as np\n",
    "rng = np.random.default_rng(seed=1701)  # seed for reproducibility\n",
    "\n",
    "x1 = rng.integers(10, size=6)  # one-dimensional array\n",
    "x2 = rng.integers(10, size=(3, 4))  # two-dimensional array\n",
    "x3 = rng.integers(10, size=(3, 4, 5))  # three-dimensional array\n",
    "\n",
    "print(\"x3 ndim: \", x3.ndim)\n",
    "print(\"x3 shape:\", x3.shape)\n",
    "print(\"x3 size: \", x3.size)\n",
    "print(\"dtype:   \", x3.dtype)"
   ]
  },
  {
   "cell_type": "markdown",
   "id": "312afbe4-cfec-425a-b2b0-16a1dae87106",
   "metadata": {},
   "source": [
    "# 배열 인덱싱: 단일 요소에 접근하기"
   ]
  },
  {
   "cell_type": "code",
   "execution_count": 34,
   "id": "1fd284d3-78cf-49c1-905a-238f241d74ee",
   "metadata": {},
   "outputs": [
    {
     "data": {
      "text/plain": [
       "array([9, 4, 0, 3, 8, 6], dtype=int64)"
      ]
     },
     "execution_count": 34,
     "metadata": {},
     "output_type": "execute_result"
    }
   ],
   "source": [
    "x1"
   ]
  },
  {
   "cell_type": "code",
   "execution_count": 36,
   "id": "dee88f2b-dd98-4470-aefa-f787b2206934",
   "metadata": {},
   "outputs": [
    {
     "data": {
      "text/plain": [
       "9"
      ]
     },
     "execution_count": 36,
     "metadata": {},
     "output_type": "execute_result"
    }
   ],
   "source": [
    "x1[0]"
   ]
  },
  {
   "cell_type": "code",
   "execution_count": 38,
   "id": "beb0f9a3-8b89-4a83-a10f-6f1506571467",
   "metadata": {},
   "outputs": [
    {
     "data": {
      "text/plain": [
       "array([[3, 1, 3, 7],\n",
       "       [4, 0, 2, 3],\n",
       "       [0, 0, 6, 9]], dtype=int64)"
      ]
     },
     "execution_count": 38,
     "metadata": {},
     "output_type": "execute_result"
    }
   ],
   "source": [
    "x2"
   ]
  },
  {
   "cell_type": "code",
   "execution_count": 40,
   "id": "436d0198-5a6c-4ba8-a06e-9178af3bf27c",
   "metadata": {},
   "outputs": [
    {
     "data": {
      "text/plain": [
       "9"
      ]
     },
     "execution_count": 40,
     "metadata": {},
     "output_type": "execute_result"
    }
   ],
   "source": [
    "x2[2, -1]"
   ]
  },
  {
   "cell_type": "code",
   "execution_count": 42,
   "id": "e6893441-e95b-4499-a376-b4bca01018da",
   "metadata": {},
   "outputs": [
    {
     "data": {
      "text/plain": [
       "array([[12,  1,  3,  7],\n",
       "       [ 4,  0,  2,  3],\n",
       "       [ 0,  0,  6,  9]], dtype=int64)"
      ]
     },
     "execution_count": 42,
     "metadata": {},
     "output_type": "execute_result"
    }
   ],
   "source": [
    "x2[0, 0] = 12\n",
    "x2"
   ]
  },
  {
   "cell_type": "code",
   "execution_count": 44,
   "id": "31f485bc-7cf6-42be-91fa-80b94a54671d",
   "metadata": {},
   "outputs": [
    {
     "data": {
      "text/plain": [
       "array([3, 4, 0, 3, 8, 6], dtype=int64)"
      ]
     },
     "execution_count": 44,
     "metadata": {},
     "output_type": "execute_result"
    }
   ],
   "source": [
    "x1[0] = 3.14159  # this will be truncated!\n",
    "x1"
   ]
  },
  {
   "cell_type": "markdown",
   "id": "0bd2985e-f282-4116-b6cf-33cffaa9f942",
   "metadata": {},
   "source": [
    "# 배열 슬라이싱 : 하위 배열에 접근하기"
   ]
  },
  {
   "cell_type": "code",
   "execution_count": 47,
   "id": "42f74f84-e4e1-40e3-a923-8a83274da4fc",
   "metadata": {},
   "outputs": [
    {
     "data": {
      "text/plain": [
       "array([4, 3, 6], dtype=int64)"
      ]
     },
     "execution_count": 47,
     "metadata": {},
     "output_type": "execute_result"
    }
   ],
   "source": [
    "x1\n",
    "#array([3, 4, 0, 3, 8, 6])\n",
    "x1[:3]  # first three elements\n",
    "#array([3, 4, 0])\n",
    "x1[3:]  # elements after index 3\n",
    "#array([3, 8, 6])\n",
    "x1[1:4]  # middle subarray\n",
    "#array([4, 0, 3])\n",
    "x1[::2]  # every second element\n",
    "#array([3, 0, 8])\n",
    "x1[1::2]  # every second element, starting at index 1\n",
    "#array([4, 3, 6])"
   ]
  },
  {
   "cell_type": "code",
   "execution_count": 49,
   "id": "fd287bf9-6056-45a1-9ca2-b447d469460f",
   "metadata": {},
   "outputs": [
    {
     "data": {
      "text/plain": [
       "array([[ 9,  6,  0,  0],\n",
       "       [ 3,  2,  0,  4],\n",
       "       [ 7,  3,  1, 12]], dtype=int64)"
      ]
     },
     "execution_count": 49,
     "metadata": {},
     "output_type": "execute_result"
    }
   ],
   "source": [
    "x2\n",
    "#array([[12,  1,  3,  7],\n",
    "       #[ 4,  0,  2,  3],\n",
    "       #[ 0,  0,  6,  9]])\n",
    "x2[:2, :3]  # first two rows & three columns\n",
    "#array([[12,  1,  3],\n",
    "       #[ 4,  0,  2]])\n",
    "x2[:3, ::2]  # three rows, every second column\n",
    "#array([[12,  3],\n",
    "       #[ 4,  2],\n",
    "       #[ 0,  6]])\n",
    "x2[::-1, ::-1]  # all rows & columns, reversed\n",
    "#array([[ 9,  6,  0,  0],\n",
    "       #[ 3,  2,  0,  4],\n",
    "       #[ 7,  3,  1, 12]])"
   ]
  },
  {
   "cell_type": "code",
   "execution_count": 51,
   "id": "5cded77b-1661-4484-ba2c-03d491602f50",
   "metadata": {},
   "outputs": [
    {
     "data": {
      "text/plain": [
       "array([12,  1,  3,  7], dtype=int64)"
      ]
     },
     "execution_count": 51,
     "metadata": {},
     "output_type": "execute_result"
    }
   ],
   "source": [
    "x2[0, :]  # first row of x2\n",
    "#array([12,  1,  3,  7])\n",
    "\n",
    "x2[0]  # equivalent to x2[0, :]\n",
    "#array([12,  1,  3,  7])"
   ]
  },
  {
   "cell_type": "markdown",
   "id": "b4b9ea16-b183-4654-96c9-6ee4b1900aa0",
   "metadata": {},
   "source": [
    "사본이 아닌 뷰로서의 하위 배열"
   ]
  },
  {
   "cell_type": "code",
   "execution_count": 56,
   "id": "92927653-e4f2-4ccb-94b7-b1eb6a1c6e9f",
   "metadata": {},
   "outputs": [
    {
     "name": "stdout",
     "output_type": "stream",
     "text": [
      "[[12  1  3  7]\n",
      " [ 4  0  2  3]\n",
      " [ 0  0  6  9]]\n",
      "[[12  1]\n",
      " [ 4  0]]\n",
      "[[99  1]\n",
      " [ 4  0]]\n",
      "[[99  1  3  7]\n",
      " [ 4  0  2  3]\n",
      " [ 0  0  6  9]]\n"
     ]
    }
   ],
   "source": [
    "print(x2)\n",
    "#[[12  1  3  7]\n",
    " #[ 4  0  2  3]\n",
    " #[ 0  0  6  9]]\n",
    "\n",
    "\n",
    "x2_sub = x2[:2, :2]\n",
    "print(x2_sub)\n",
    "#[[12  1]\n",
    " #[ 4  0]]\n",
    "\n",
    "x2_sub[0, 0] = 99\n",
    "print(x2_sub)\n",
    "#[[99  1]\n",
    " #[ 4  0]]\n",
    "print(x2)\n",
    "#[[99  1  3  7]\n",
    " #[ 4  0  2  3]\n",
    " #[ 0  0  6  9]]"
   ]
  },
  {
   "cell_type": "markdown",
   "id": "f4178e57-8f92-40fd-99c2-a52eb495c385",
   "metadata": {},
   "source": [
    "배열의 사본 만들기"
   ]
  },
  {
   "cell_type": "code",
   "execution_count": 59,
   "id": "7fa5e2ca-2b5a-43d0-af44-0ea2ed6cbb28",
   "metadata": {},
   "outputs": [
    {
     "name": "stdout",
     "output_type": "stream",
     "text": [
      "[[99  1]\n",
      " [ 4  0]]\n",
      "[[42  1]\n",
      " [ 4  0]]\n",
      "[[99  1  3  7]\n",
      " [ 4  0  2  3]\n",
      " [ 0  0  6  9]]\n"
     ]
    }
   ],
   "source": [
    "x2_sub_copy = x2[:2, :2].copy()\n",
    "print(x2_sub_copy)\n",
    "#[[99  1]\n",
    " #[ 4  0]]\n",
    "\n",
    "\n",
    "x2_sub_copy[0, 0] = 42\n",
    "print(x2_sub_copy)\n",
    "#[[42  1]\n",
    " #[ 4  0]]\n",
    "print(x2)\n",
    "#[[99  1  3  7]\n",
    " #[ 4  0  2  3]\n",
    " #[ 0  0  6  9]]"
   ]
  },
  {
   "cell_type": "markdown",
   "id": "62cd4946-8081-4431-80c6-efe2eeb22327",
   "metadata": {},
   "source": [
    "# 배열 재구조화"
   ]
  },
  {
   "cell_type": "code",
   "execution_count": 62,
   "id": "585ff82c-8d00-4181-9886-d1a3104f2e15",
   "metadata": {},
   "outputs": [
    {
     "name": "stdout",
     "output_type": "stream",
     "text": [
      "[[1 2 3]\n",
      " [4 5 6]\n",
      " [7 8 9]]\n"
     ]
    },
    {
     "data": {
      "text/plain": [
       "array([[1],\n",
       "       [2],\n",
       "       [3]])"
      ]
     },
     "execution_count": 62,
     "metadata": {},
     "output_type": "execute_result"
    }
   ],
   "source": [
    "grid = np.arange(1, 10).reshape(3, 3)\n",
    "print(grid)\n",
    "#[[1 2 3]\n",
    " #[4 5 6]\n",
    " #[7 8 9]]\n",
    "\n",
    "x = np.array([1, 2, 3])\n",
    "x.reshape((1, 3))  # row vector via reshape\n",
    "#array([[1, 2, 3]])\n",
    "x.reshape((3, 1))  # column vector via reshape\n",
    "#array([[1],\n",
    "       #[2],\n",
    "       #[3]])\n",
    "\n",
    "x[np.newaxis, :]\n",
    "#array([[1, 2, 3]])\n",
    "x[:, np.newaxis]"
   ]
  },
  {
   "cell_type": "markdown",
   "id": "e1bf5f30-bfcf-4abf-b845-97c98bbc7512",
   "metadata": {},
   "source": [
    "# 배열 연결 및 분할"
   ]
  },
  {
   "cell_type": "code",
   "execution_count": 67,
   "id": "f011a326-4842-4bce-9fa1-5ff24270d832",
   "metadata": {},
   "outputs": [
    {
     "name": "stdout",
     "output_type": "stream",
     "text": [
      "[ 1  2  3  3  2  1 99 99 99]\n"
     ]
    },
    {
     "data": {
      "text/plain": [
       "array([[ 1,  2,  3, 99],\n",
       "       [ 4,  5,  6, 99]])"
      ]
     },
     "execution_count": 67,
     "metadata": {},
     "output_type": "execute_result"
    }
   ],
   "source": [
    "x = np.array([1, 2, 3])\n",
    "y = np.array([3, 2, 1])\n",
    "np.concatenate([x, y])\n",
    "#array([1, 2, 3, 3, 2, 1])\n",
    "\n",
    "\n",
    "z = np.array([99, 99, 99])\n",
    "print(np.concatenate([x, y, z]))\n",
    "#[ 1  2  3  3  2  1 99 99 99]\n",
    "\n",
    "\n",
    "grid = np.array([[1, 2, 3],\n",
    "                 [4, 5, 6]])\n",
    "# concatenate along the first axis\n",
    "np.concatenate([grid, grid])\n",
    "#array([[1, 2, 3],\n",
    "      # [4, 5, 6],\n",
    "       #[1, 2, 3],\n",
    "     #  [4, 5, 6]])\n",
    "# concatenate along the second axis (zero-indexed)\n",
    "np.concatenate([grid, grid], axis=1)\n",
    "#array([[1, 2, 3, 1, 2, 3],\n",
    "     #  [4, 5, 6, 4, 5, 6]])\n",
    "\n",
    "# vertically stack the arrays\n",
    "np.vstack([x, grid])\n",
    "#array([[1, 2, 3],\n",
    "     #  [1, 2, 3],\n",
    "      # [4, 5, 6]])\n",
    "# horizontally stack the arrays\n",
    "y = np.array([[99],\n",
    "              [99]])\n",
    "np.hstack([grid, y])\n",
    "#array([[ 1,  2,  3, 99],\n",
    "     #  [ 4,  5,  6, 99]])"
   ]
  },
  {
   "cell_type": "code",
   "execution_count": 69,
   "id": "c3b9487e-6c92-4b4e-8d1e-1b061fd7935b",
   "metadata": {},
   "outputs": [
    {
     "name": "stdout",
     "output_type": "stream",
     "text": [
      "[1 2 3] [99 99] [3 2 1]\n",
      "[[0 1 2 3]\n",
      " [4 5 6 7]]\n",
      "[[ 8  9 10 11]\n",
      " [12 13 14 15]]\n",
      "[[ 0  1]\n",
      " [ 4  5]\n",
      " [ 8  9]\n",
      " [12 13]]\n",
      "[[ 2  3]\n",
      " [ 6  7]\n",
      " [10 11]\n",
      " [14 15]]\n"
     ]
    }
   ],
   "source": [
    "x = [1, 2, 3, 99, 99, 3, 2, 1]\n",
    "x1, x2, x3 = np.split(x, [3, 5])\n",
    "print(x1, x2, x3)\n",
    "#[1 2 3] [99 99] [3 2 1]\n",
    "\n",
    "\n",
    "grid = np.arange(16).reshape((4, 4))\n",
    "grid\n",
    "#array([[ 0,  1,  2,  3],\n",
    "       #[ 4,  5,  6,  7],\n",
    "       #[ 8,  9, 10, 11],\n",
    "       #[12, 13, 14, 15]])\n",
    "upper, lower = np.vsplit(grid, [2])\n",
    "print(upper)\n",
    "print(lower)\n",
    "#[[0 1 2 3]\n",
    " #[4 5 6 7]]\n",
    "#[[ 8  9 10 11]\n",
    " #[12 13 14 15]]\n",
    "left, right = np.hsplit(grid, [2])\n",
    "print(left)\n",
    "print(right)\n",
    "#[[ 0  1]\n",
    " #[ 4  5]\n",
    " #[ 8  9]\n",
    " #[12 13]]\n",
    "#[[ 2  3]\n",
    " #[ 6  7]\n",
    "# [10 11]\n",
    "# [14 15]]"
   ]
  },
  {
   "cell_type": "markdown",
   "id": "651d9ce9-9725-4435-a5af-2d13b450d67e",
   "metadata": {},
   "source": [
    "# 루프는 느리다"
   ]
  },
  {
   "cell_type": "code",
   "execution_count": 72,
   "id": "eddf2a97-85a0-4900-8bd2-4391223244ed",
   "metadata": {},
   "outputs": [
    {
     "name": "stdout",
     "output_type": "stream",
     "text": [
      "5.5 s ± 200 ms per loop (mean ± std. dev. of 7 runs, 1 loop each)\n"
     ]
    }
   ],
   "source": [
    "import numpy as np\n",
    "np.random.seed(0)\n",
    "\n",
    "def compute_reciprocals(values):\n",
    "    output = np.empty(len(values))\n",
    "    for i in range(len(values)):\n",
    "        output[i] = 1.0 / values[i]\n",
    "    return output\n",
    "        \n",
    "values = rng.integers(1, 10, size=5)\n",
    "compute_reciprocals(values)\n",
    "#array([0.11111111, 0.25      , 1.        , 0.33333333, 0.125     ])\n",
    "\n",
    "big_array = rng.integers(1, 100, size=1000000)\n",
    "%timeit compute_reciprocals(big_array)"
   ]
  },
  {
   "cell_type": "code",
   "execution_count": 74,
   "id": "f1d2eb39-c4a4-429d-8a43-27e31eff97cb",
   "metadata": {},
   "outputs": [
    {
     "name": "stdout",
     "output_type": "stream",
     "text": [
      "[0.11111111 0.25       0.14285714 0.16666667 0.16666667]\n",
      "[0.11111111 0.25       0.14285714 0.16666667 0.16666667]\n"
     ]
    }
   ],
   "source": [
    "print(compute_reciprocals(values))\n",
    "print(1.0 / values)"
   ]
  },
  {
   "cell_type": "code",
   "execution_count": 76,
   "id": "c834c352-7442-42ba-9588-107262560325",
   "metadata": {},
   "outputs": [
    {
     "data": {
      "text/plain": [
       "array([[  1,   2,   4],\n",
       "       [  8,  16,  32],\n",
       "       [ 64, 128, 256]], dtype=int32)"
      ]
     },
     "execution_count": 76,
     "metadata": {},
     "output_type": "execute_result"
    }
   ],
   "source": [
    "np.arange(5) / np.arange(1, 6)\n",
    "#array([0.        , 0.5       , 0.66666667, 0.75      , 0.8       ])\n",
    "\n",
    "\n",
    "x = np.arange(9).reshape((3, 3))\n",
    "2 ** x\n",
    "\n",
    "#array([[  1,   2,   4],\n",
    " #      [  8,  16,  32],\n",
    "  #     [ 64, 128, 256]])"
   ]
  },
  {
   "cell_type": "markdown",
   "id": "1c3879f7-a7a7-496d-9abd-8f6e59864e86",
   "metadata": {},
   "source": [
    "# Numpy 유니버설 함수(Ufuncs)"
   ]
  },
  {
   "cell_type": "code",
   "execution_count": 79,
   "id": "7b797803-3ae5-4372-b5fd-0bb5c8c2148d",
   "metadata": {},
   "outputs": [
    {
     "name": "stdout",
     "output_type": "stream",
     "text": [
      "x      = [0 1 2 3]\n",
      "x + 5  = [5 6 7 8]\n",
      "x - 5  = [-5 -4 -3 -2]\n",
      "x * 2  = [0 2 4 6]\n",
      "x / 2  = [0.  0.5 1.  1.5]\n",
      "x // 2 = [0 0 1 1]\n",
      "-x     =  [ 0 -1 -2 -3]\n",
      "x ** 2 =  [0 1 4 9]\n",
      "x % 2  =  [0 1 0 1]\n"
     ]
    },
    {
     "data": {
      "text/plain": [
       "array([2, 3, 4, 5])"
      ]
     },
     "execution_count": 79,
     "metadata": {},
     "output_type": "execute_result"
    }
   ],
   "source": [
    "##배열 산술 연산##\n",
    "x = np.arange(4)\n",
    "print(\"x      =\", x)\n",
    "print(\"x + 5  =\", x + 5)\n",
    "print(\"x - 5  =\", x - 5)\n",
    "print(\"x * 2  =\", x * 2)\n",
    "print(\"x / 2  =\", x / 2)\n",
    "print(\"x // 2 =\", x // 2)  # floor division\n",
    "#x      = [0 1 2 3]\n",
    "#x + 5  = [5 6 7 8]\n",
    "#x - 5  = [-5 -4 -3 -2]\n",
    "#x * 2  = [0 2 4 6]\n",
    "#x / 2  = [0.  0.5 1.  1.5]\n",
    "#x // 2 = [0 0 1 1]\n",
    "\n",
    "print(\"-x     = \", -x)\n",
    "print(\"x ** 2 = \", x ** 2)\n",
    "print(\"x % 2  = \", x % 2)\n",
    "#-x     =  [ 0 -1 -2 -3]\n",
    "#x ** 2 =  [0 1 4 9]\n",
    "#x % 2  =  [0 1 0 1]\n",
    "\n",
    "-(0.5*x + 1) ** 2\n",
    "#array([-1.  , -2.25, -4.  , -6.25])\n",
    "\n",
    "np.add(x, 2)\n",
    "#array([2, 3, 4, 5])"
   ]
  },
  {
   "cell_type": "code",
   "execution_count": 81,
   "id": "f09f9857-3891-4a28-90c4-e61d048eaad6",
   "metadata": {},
   "outputs": [
    {
     "data": {
      "text/plain": [
       "array([5., 5., 2., 1.])"
      ]
     },
     "execution_count": 81,
     "metadata": {},
     "output_type": "execute_result"
    }
   ],
   "source": [
    "##절댓값 함수##\n",
    "x = np.array([-2, -1, 0, 1, 2])\n",
    "abs(x)\n",
    "#array([2, 1, 0, 1, 2])\n",
    "\n",
    "np.absolute(x)\n",
    "#array([2, 1, 0, 1, 2])\n",
    "np.abs(x)\n",
    "#array([2, 1, 0, 1, 2])\n",
    "\n",
    "x = np.array([3 - 4j, 4 - 3j, 2 + 0j, 0 + 1j])\n",
    "np.abs(x)\n",
    "#array([5., 5., 2., 1.])"
   ]
  },
  {
   "cell_type": "code",
   "execution_count": 85,
   "id": "f44d9b1e-8170-4d58-a71a-3f57b3de9f91",
   "metadata": {},
   "outputs": [
    {
     "name": "stdout",
     "output_type": "stream",
     "text": [
      "theta      =  [0.         1.57079633 3.14159265]\n",
      "sin(theta) =  [0.0000000e+00 1.0000000e+00 1.2246468e-16]\n",
      "cos(theta) =  [ 1.000000e+00  6.123234e-17 -1.000000e+00]\n",
      "tan(theta) =  [ 0.00000000e+00  1.63312394e+16 -1.22464680e-16]\n",
      "x         =  [-1, 0, 1]\n",
      "arcsin(x) =  [-1.57079633  0.          1.57079633]\n",
      "arccos(x) =  [3.14159265 1.57079633 0.        ]\n",
      "arctan(x) =  [-0.78539816  0.          0.78539816]\n"
     ]
    }
   ],
   "source": [
    "##삼각함수##\n",
    "theta = np.linspace(0, np.pi, 3)\n",
    "\n",
    "\n",
    "print(\"theta      = \", theta)\n",
    "print(\"sin(theta) = \", np.sin(theta))\n",
    "print(\"cos(theta) = \", np.cos(theta))\n",
    "print(\"tan(theta) = \", np.tan(theta))\n",
    "#theta      =  [0.         1.57079633 3.14159265]\n",
    "#sin(theta) =  [0.0000000e+00 1.0000000e+00 1.2246468e-16]\n",
    "#cos(theta) =  [ 1.000000e+00  6.123234e-17 -1.000000e+00]\n",
    "#tan(theta) =  [ 0.00000000e+00  1.63312394e+16 -1.22464680e-16]\n",
    "\n",
    "\n",
    "x = [-1, 0, 1]\n",
    "print(\"x         = \", x)\n",
    "print(\"arcsin(x) = \", np.arcsin(x))\n",
    "print(\"arccos(x) = \", np.arccos(x))\n",
    "print(\"arctan(x) = \", np.arctan(x))\n",
    "#x         =  [-1, 0, 1]\n",
    "#arcsin(x) =  [-1.57079633  0.          1.57079633]\n",
    "#arccos(x) =  [3.14159265 1.57079633 0.        ]\n",
    "#arctan(x) =  [-0.78539816  0.          0.78539816]"
   ]
  },
  {
   "cell_type": "code",
   "execution_count": 87,
   "id": "e310ac38-e6b3-4af0-9d1a-755427189261",
   "metadata": {},
   "outputs": [
    {
     "name": "stdout",
     "output_type": "stream",
     "text": [
      "x   = [1, 2, 3]\n",
      "e^x = [ 2.71828183  7.3890561  20.08553692]\n",
      "2^x = [2. 4. 8.]\n",
      "3^x = [ 3.  9. 27.]\n",
      "x        = [1, 2, 4, 10]\n",
      "ln(x)    = [0.         0.69314718 1.38629436 2.30258509]\n",
      "log2(x)  = [0.         1.         2.         3.32192809]\n",
      "log10(x) = [0.         0.30103    0.60205999 1.        ]\n",
      "exp(x) - 1 = [0.         0.0010005  0.01005017 0.10517092]\n",
      "log(1 + x) = [0.         0.0009995  0.00995033 0.09531018]\n"
     ]
    }
   ],
   "source": [
    "##지수와 로그##\n",
    "x = [1, 2, 3]\n",
    "print(\"x   =\", x)\n",
    "print(\"e^x =\", np.exp(x))\n",
    "print(\"2^x =\", np.exp2(x))\n",
    "print(\"3^x =\", np.power(3., x))\n",
    "#x   = [1, 2, 3]\n",
    "#e^x = [ 2.71828183  7.3890561  20.08553692]\n",
    "#2^x = [2. 4. 8.]\n",
    "#3^x = [ 3.  9. 27.]\n",
    "\n",
    "x = [1, 2, 4, 10]\n",
    "print(\"x        =\", x)\n",
    "print(\"ln(x)    =\", np.log(x))\n",
    "print(\"log2(x)  =\", np.log2(x))\n",
    "print(\"log10(x) =\", np.log10(x))\n",
    "#x        = [1, 2, 4, 10]\n",
    "#ln(x)    = [0.         0.69314718 1.38629436 2.30258509]\n",
    "#log2(x)  = [0.         1.         2.         3.32192809]\n",
    "#log10(x) = [0.         0.30103    0.60205999 1.        ]\n",
    "\n",
    "\n",
    "x = [0, 0.001, 0.01, 0.1]\n",
    "print(\"exp(x) - 1 =\", np.expm1(x))\n",
    "print(\"log(1 + x) =\", np.log1p(x))\n",
    "#exp(x) - 1 = [0.         0.0010005  0.01005017 0.10517092]\n",
    "#log(1 + x) = [0.         0.0009995  0.00995033 0.09531018]"
   ]
  },
  {
   "cell_type": "code",
   "execution_count": 91,
   "id": "6b4c076a-b74b-49bc-810b-66e4e6210eba",
   "metadata": {},
   "outputs": [
    {
     "name": "stdout",
     "output_type": "stream",
     "text": [
      "gamma(x)     = [1.0000e+00 2.4000e+01 3.6288e+05]\n",
      "ln|gamma(x)| = [ 0.          3.17805383 12.80182748]\n",
      "beta(x, 2)   = [0.5        0.03333333 0.00909091]\n",
      "erf(x)  = [0.         0.32862676 0.67780119 0.84270079]\n",
      "erfc(x) = [1.         0.67137324 0.32219881 0.15729921]\n",
      "erfinv(x) = [0.         0.27246271 0.73286908        inf]\n"
     ]
    }
   ],
   "source": [
    "##특화된 유니버설 함수##\n",
    "from scipy import special\n",
    "# Gamma functions (generalized factorials) and related functions\n",
    "x = [1, 5, 10]\n",
    "print(\"gamma(x)     =\", special.gamma(x))\n",
    "print(\"ln|gamma(x)| =\", special.gammaln(x))\n",
    "print(\"beta(x, 2)   =\", special.beta(x, 2))\n",
    "\n",
    "\n",
    "x = np.array([0, 0.3, 0.7, 1.0])\n",
    "print(\"erf(x)  =\", special.erf(x))\n",
    "print(\"erfc(x) =\", special.erfc(x))\n",
    "print(\"erfinv(x) =\", special.erfinv(x))"
   ]
  },
  {
   "cell_type": "markdown",
   "id": "e0cb01de-ab1e-4ae2-8e92-e5c9bb7974d1",
   "metadata": {},
   "source": [
    "# 고급 Ufunc 기능"
   ]
  },
  {
   "cell_type": "code",
   "execution_count": 104,
   "id": "f17ed1fb-4205-4fb1-9eb3-5a15cf993ce6",
   "metadata": {},
   "outputs": [
    {
     "name": "stdout",
     "output_type": "stream",
     "text": [
      "[ 0. 10. 20. 30. 40.]\n",
      "[ 1.  0.  2.  0.  4.  0.  8.  0. 16.  0.]\n"
     ]
    }
   ],
   "source": [
    "##출력 지정##\n",
    "x = np.arange(5)\n",
    "y = np.empty(5)\n",
    "np.multiply(x, 10, out=y)\n",
    "print(y)\n",
    "\n",
    "y = np.zeros(10)\n",
    "np.power(2, x, out=y[::2])\n",
    "print(y)"
   ]
  },
  {
   "cell_type": "code",
   "execution_count": 96,
   "id": "7f78a301-3298-4fa1-a0bd-921905d0135c",
   "metadata": {},
   "outputs": [
    {
     "data": {
      "text/plain": [
       "15"
      ]
     },
     "execution_count": 96,
     "metadata": {},
     "output_type": "execute_result"
    }
   ],
   "source": [
    "##집계##\n",
    "x = np.arange(1, 6)\n",
    "np.add.reduce(x)"
   ]
  },
  {
   "cell_type": "code",
   "execution_count": 98,
   "id": "fbb0ef5b-30dd-4d44-a1e3-b96f581affb9",
   "metadata": {},
   "outputs": [
    {
     "data": {
      "text/plain": [
       "120"
      ]
     },
     "execution_count": 98,
     "metadata": {},
     "output_type": "execute_result"
    }
   ],
   "source": [
    "np.multiply.reduce(x)"
   ]
  },
  {
   "cell_type": "code",
   "execution_count": 100,
   "id": "121de764-30ab-4dde-ab23-44830372a41a",
   "metadata": {},
   "outputs": [
    {
     "data": {
      "text/plain": [
       "array([ 1,  3,  6, 10, 15])"
      ]
     },
     "execution_count": 100,
     "metadata": {},
     "output_type": "execute_result"
    }
   ],
   "source": [
    "np.add.accumulate(x)"
   ]
  },
  {
   "cell_type": "code",
   "execution_count": 102,
   "id": "f3813573-c2ec-4ca6-b735-47f2dbd447d9",
   "metadata": {},
   "outputs": [
    {
     "data": {
      "text/plain": [
       "array([  1,   2,   6,  24, 120])"
      ]
     },
     "execution_count": 102,
     "metadata": {},
     "output_type": "execute_result"
    }
   ],
   "source": [
    "np.multiply.accumulate(x)"
   ]
  },
  {
   "cell_type": "code",
   "execution_count": 106,
   "id": "2fd4bcac-de69-4276-bf65-921b421106ea",
   "metadata": {},
   "outputs": [
    {
     "data": {
      "text/plain": [
       "array([[ 1,  2,  3,  4,  5],\n",
       "       [ 2,  4,  6,  8, 10],\n",
       "       [ 3,  6,  9, 12, 15],\n",
       "       [ 4,  8, 12, 16, 20],\n",
       "       [ 5, 10, 15, 20, 25]])"
      ]
     },
     "execution_count": 106,
     "metadata": {},
     "output_type": "execute_result"
    }
   ],
   "source": [
    "##외적##\n",
    "x = np.arange(1, 6)\n",
    "np.multiply.outer(x, x)"
   ]
  },
  {
   "cell_type": "markdown",
   "id": "97e06a58-0d88-4116-8eac-db684075220c",
   "metadata": {},
   "source": [
    "# 집계: 최솟값, 최댓값, 그리고 그 사이의 모든것"
   ]
  },
  {
   "cell_type": "code",
   "execution_count": 109,
   "id": "7d6f99e5-1f44-48f1-b394-8b6d730510ac",
   "metadata": {},
   "outputs": [
    {
     "data": {
      "text/plain": [
       "51.85656892764136"
      ]
     },
     "execution_count": 109,
     "metadata": {},
     "output_type": "execute_result"
    }
   ],
   "source": [
    "##배열의 값의 합 구하기##\n",
    "import numpy as np\n",
    "rng = np.random.default_rng()\n",
    "L = rng.random(100)\n",
    "sum(L)\n",
    "#52.76825337322368\n",
    "\n",
    "\n",
    "np.sum(L)\n",
    "#동일"
   ]
  },
  {
   "cell_type": "code",
   "execution_count": 111,
   "id": "f6a1efcb-fea1-4ad8-8544-53e0bdbdc333",
   "metadata": {},
   "outputs": [
    {
     "name": "stdout",
     "output_type": "stream",
     "text": [
      "[[1 9 7 6]\n",
      " [0 5 5 3]\n",
      " [5 4 5 8]]\n"
     ]
    },
    {
     "data": {
      "text/plain": [
       "array([9, 5, 8], dtype=int64)"
      ]
     },
     "execution_count": 111,
     "metadata": {},
     "output_type": "execute_result"
    }
   ],
   "source": [
    "##다차원 집계\n",
    "M = rng.integers(0, 10, (3, 4))\n",
    "print(M)\n",
    "#[[0 3 1 2]\n",
    " #[1 9 7 0]\n",
    " #[4 8 3 7]]\n",
    "\n",
    "M.sum()\n",
    "#45\n",
    "\n",
    "\n",
    "M.min(axis=0)\n",
    "#array([0, 3, 1, 0])\n",
    "\n",
    "M.max(axis=1)\n",
    "#array([3, 9, 8])"
   ]
  },
  {
   "cell_type": "code",
   "execution_count": 115,
   "id": "326f478c-15b6-41ac-b660-ec9af7994760",
   "metadata": {},
   "outputs": [
    {
     "name": "stdout",
     "output_type": "stream",
     "text": [
      "[189 170 189 163 183 171 185 168 173 183 173 173 175 178 183 193 178 173\n",
      " 174 183 183 168 170 178 182 180 183 178 182 188 175 179 183 193 182 183\n",
      " 177 185 188 188 182 185]\n"
     ]
    }
   ],
   "source": [
    "##예제##\n",
    "import pandas as pd\n",
    "data = pd.read_csv('president_heights.csv')\n",
    "heights = np.array(data['height(cm)'])\n",
    "print(heights)"
   ]
  },
  {
   "cell_type": "code",
   "execution_count": 117,
   "id": "6fae12f5-0029-4131-85b5-c3b01f6f6ce8",
   "metadata": {},
   "outputs": [
    {
     "name": "stdout",
     "output_type": "stream",
     "text": [
      "Mean height:        179.73809523809524\n",
      "Standard deviation: 6.931843442745892\n",
      "Minimum height:     163\n",
      "Maximum height:     193\n"
     ]
    }
   ],
   "source": [
    "print(\"Mean height:       \", heights.mean())\n",
    "print(\"Standard deviation:\", heights.std())\n",
    "print(\"Minimum height:    \", heights.min())\n",
    "print(\"Maximum height:    \", heights.max())"
   ]
  },
  {
   "cell_type": "code",
   "execution_count": 119,
   "id": "961e1a2f-cb3d-43de-9c7b-9d690931bf72",
   "metadata": {},
   "outputs": [
    {
     "name": "stdout",
     "output_type": "stream",
     "text": [
      "25th percentile:    174.25\n",
      "Median:             182.0\n",
      "75th percentile:    183.0\n"
     ]
    }
   ],
   "source": [
    "print(\"25th percentile:   \", np.percentile(heights, 25))\n",
    "print(\"Median:            \", np.median(heights))\n",
    "print(\"75th percentile:   \", np.percentile(heights, 75))"
   ]
  },
  {
   "cell_type": "code",
   "execution_count": 121,
   "id": "a2c65dca-a679-4367-8cea-a87df1141ef4",
   "metadata": {},
   "outputs": [],
   "source": [
    "import matplotlib.pyplot as plt\n",
    "import seaborn; seaborn.set()  # set plot style"
   ]
  },
  {
   "cell_type": "code",
   "execution_count": 123,
   "id": "f2cfe2ce-8b80-4bd8-9b54-fd72c6eff633",
   "metadata": {},
   "outputs": [
    {
     "data": {
      "text/plain": [
       "Text(0, 0.5, 'number')"
      ]
     },
     "execution_count": 123,
     "metadata": {},
     "output_type": "execute_result"
    },
    {
     "data": {
      "image/png": "[encoded data removed]",
      "text/plain": [
       "<Figure size 640x480 with 1 Axes>"
      ]
     },
     "metadata": {},
     "output_type": "display_data"
    }
   ],
   "source": [
    "plt.hist(heights)\n",
    "plt.title('Height Distribution of US Presidents')\n",
    "plt.xlabel('height (cm)')\n",
    "plt.ylabel('number')"
   ]
  },
  {
   "cell_type": "markdown",
   "id": "5a54d1fb-3159-4526-b0eb-cc5090990119",
   "metadata": {},
   "source": [
    "# 브로드캐스팅 소개"
   ]
  },
  {
   "cell_type": "code",
   "execution_count": 126,
   "id": "1e933bcd-13a3-43bb-9102-62027b6c65c9",
   "metadata": {},
   "outputs": [
    {
     "name": "stdout",
     "output_type": "stream",
     "text": [
      "[0 1 2]\n",
      "[[0]\n",
      " [1]\n",
      " [2]]\n"
     ]
    },
    {
     "data": {
      "text/plain": [
       "array([[0, 1, 2],\n",
       "       [1, 2, 3],\n",
       "       [2, 3, 4]])"
      ]
     },
     "execution_count": 126,
     "metadata": {},
     "output_type": "execute_result"
    }
   ],
   "source": [
    "import numpy as np\n",
    "a = np.array([0, 1, 2])\n",
    "b = np.array([5, 5, 5])\n",
    "a + b\n",
    "#array([5, 6, 7])\n",
    "\n",
    "a + 5\n",
    "#array([5, 6, 7])\n",
    "\n",
    "M = np.ones((3, 3))\n",
    "M\n",
    "#array([[ 1.,  1.,  1.],\n",
    " #      [ 1.,  1.,  1.],\n",
    "  #     [ 1.,  1.,  1.]])\n",
    "M + a\n",
    "#array([[ 1.,  2.,  3.],\n",
    " #      [ 1.,  2.,  3.],\n",
    "  #     [ 1.,  2.,  3.]])\n",
    "\n",
    "a = np.arange(3)\n",
    "b = np.arange(3)[:, np.newaxis]\n",
    "\n",
    "print(a)\n",
    "print(b)\n",
    "#[0 1 2]\n",
    "#[[0]\n",
    "# [1]\n",
    "# [2]]\n",
    "a + b\n",
    "#array([[0, 1, 2],\n",
    " #      [1, 2, 3],\n",
    "  #     [2, 3, 4]])"
   ]
  },
  {
   "cell_type": "markdown",
   "id": "8ca27c4e-7abd-42b4-a82d-1d860f0c0033",
   "metadata": {},
   "source": [
    "# 브로드캐스팅 규칙"
   ]
  },
  {
   "cell_type": "code",
   "execution_count": 129,
   "id": "acefc773-5668-406a-a9f5-71c58d3bdfc1",
   "metadata": {},
   "outputs": [],
   "source": [
    "#규칙 1#\n",
    "M = np.ones((2, 3))\n",
    "a = np.arange(3)"
   ]
  },
  {
   "cell_type": "code",
   "execution_count": 131,
   "id": "d7c1a59a-35ad-4204-a5d5-021d3dd45195",
   "metadata": {},
   "outputs": [
    {
     "data": {
      "text/plain": [
       "array([[1., 2., 3.],\n",
       "       [1., 2., 3.]])"
      ]
     },
     "execution_count": 131,
     "metadata": {},
     "output_type": "execute_result"
    }
   ],
   "source": [
    "M + a"
   ]
  },
  {
   "cell_type": "code",
   "execution_count": 133,
   "id": "1adaaa00-a576-4253-b9c2-70d422c6b96d",
   "metadata": {},
   "outputs": [],
   "source": [
    "#규칙 2#\n",
    "a = np.arange(3).reshape((3, 1))\n",
    "b = np.arange(3)"
   ]
  },
  {
   "cell_type": "code",
   "execution_count": 135,
   "id": "e29138a2-b68a-456a-b6fc-98e8eddde930",
   "metadata": {},
   "outputs": [
    {
     "data": {
      "text/plain": [
       "array([[0, 1, 2],\n",
       "       [1, 2, 3],\n",
       "       [2, 3, 4]])"
      ]
     },
     "execution_count": 135,
     "metadata": {},
     "output_type": "execute_result"
    }
   ],
   "source": [
    "a + b"
   ]
  },
  {
   "cell_type": "code",
   "execution_count": 137,
   "id": "a59f73de-b551-459e-b1f9-4f880127e16d",
   "metadata": {},
   "outputs": [],
   "source": [
    "#규칙 3#\n",
    "M = np.ones((3, 2))\n",
    "a = np.arange(3)"
   ]
  },
  {
   "cell_type": "code",
   "execution_count": 139,
   "id": "232e3148-dbf3-4778-a804-5c3a661f4bc6",
   "metadata": {},
   "outputs": [
    {
     "ename": "ValueError",
     "evalue": "operands could not be broadcast together with shapes (3,2) (3,) ",
     "output_type": "error",
     "traceback": [
      "\u001b[1;31m---------------------------------------------------------------------------\u001b[0m",
      "\u001b[1;31mValueError\u001b[0m                                Traceback (most recent call last)",
      "Cell \u001b[1;32mIn[139], line 1\u001b[0m\n\u001b[1;32m----> 1\u001b[0m \u001b[43mM\u001b[49m\u001b[43m \u001b[49m\u001b[38;5;241;43m+\u001b[39;49m\u001b[43m \u001b[49m\u001b[43ma\u001b[49m\n",
      "\u001b[1;31mValueError\u001b[0m: operands could not be broadcast together with shapes (3,2) (3,) "
     ]
    }
   ],
   "source": [
    "M + a"
   ]
  },
  {
   "cell_type": "code",
   "execution_count": 141,
   "id": "335814ee-44e6-489c-b538-f085aef28444",
   "metadata": {},
   "outputs": [
    {
     "data": {
      "text/plain": [
       "(3, 1)"
      ]
     },
     "execution_count": 141,
     "metadata": {},
     "output_type": "execute_result"
    }
   ],
   "source": [
    "a[:, np.newaxis].shape"
   ]
  },
  {
   "cell_type": "code",
   "execution_count": 143,
   "id": "1ad627e8-0906-41d3-92bc-8c18c57f7bbb",
   "metadata": {},
   "outputs": [
    {
     "data": {
      "text/plain": [
       "array([[1., 1.],\n",
       "       [2., 2.],\n",
       "       [3., 3.]])"
      ]
     },
     "execution_count": 143,
     "metadata": {},
     "output_type": "execute_result"
    }
   ],
   "source": [
    "M + a[:, np.newaxis]"
   ]
  },
  {
   "cell_type": "code",
   "execution_count": 145,
   "id": "65f8aae8-f5e0-44a5-ad56-a2b71cff9865",
   "metadata": {},
   "outputs": [
    {
     "data": {
      "text/plain": [
       "array([[1.31326169, 1.31326169],\n",
       "       [1.69314718, 1.69314718],\n",
       "       [2.31326169, 2.31326169]])"
      ]
     },
     "execution_count": 145,
     "metadata": {},
     "output_type": "execute_result"
    }
   ],
   "source": [
    "np.logaddexp(M, a[:, np.newaxis])"
   ]
  },
  {
   "cell_type": "code",
   "execution_count": null,
   "id": "bdfe7a08-fba2-4ef1-928c-a1c89dc39194",
   "metadata": {},
   "outputs": [],
   "source": []
  }
 ],
 "metadata": {
  "kernelspec": {
   "display_name": "Python 3 (ipykernel)",
   "language": "python",
   "name": "python3"
  },
  "language_info": {
   "codemirror_mode": {
    "name": "ipython",
    "version": 3
   },
   "file_extension": ".py",
   "mimetype": "text/x-python",
   "name": "python",
   "nbconvert_exporter": "python",
   "pygments_lexer": "ipython3",
   "version": "3.12.4"
  }
 },
 "nbformat": 4,
 "nbformat_minor": 5
}
